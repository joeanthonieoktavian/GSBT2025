{
  "nbformat": 4,
  "nbformat_minor": 0,
  "metadata": {
    "colab": {
      "provenance": []
    },
    "kernelspec": {
      "name": "python3",
      "display_name": "Python 3"
    },
    "language_info": {
      "name": "python"
    }
  },
  "cells": [
    {
      "cell_type": "code",
      "execution_count": 1,
      "metadata": {
        "id": "acIrZDilhtYp"
      },
      "outputs": [],
      "source": [
        "import numpy as np\n",
        "import pandas as pd"
      ]
    },
    {
      "cell_type": "code",
      "source": [
        "data = {\n",
        "    'Outlook': ['Sunny', 'Sunny', 'Overcast', 'Rain', 'Rain', 'Rain', 'Overcast',\n",
        "                'Sunny', 'Sunny', 'Rain', 'Sunny', 'Overcast', 'Overcast', 'Rain'],\n",
        "    'Temperature': ['Hot', 'Hot', 'Hot', 'Mild', 'Cool', 'Cool', 'Cool', 'Mild',\n",
        "                    'Cool', 'Mild', 'Mild', 'Mild', 'Hot', 'Mild'],\n",
        "    'Humidity': ['High', 'High', 'High', 'High', 'Normal', 'Normal', 'Normal',\n",
        "                 'High', 'Normal', 'Normal', 'Normal', 'High', 'Normal', 'High'],\n",
        "    'Wind': ['Weak', 'Strong', 'Weak', 'Weak', 'Weak', 'Strong', 'Strong',\n",
        "             'Weak', 'Weak', 'Weak', 'Strong', 'Strong', 'Weak', 'Strong'],\n",
        "    'Play': ['No', 'No', 'Yes', 'Yes', 'Yes', 'No', 'Yes',\n",
        "             'No', 'Yes', 'Yes', 'Yes', 'Yes', 'Yes', 'No']\n",
        "}\n",
        "\n",
        "df = pd.DataFrame(data)\n",
        "\n"
      ],
      "metadata": {
        "id": "bIfvFyfanTJC"
      },
      "execution_count": 26,
      "outputs": []
    },
    {
      "cell_type": "code",
      "source": [
        "def entropy(target_col):\n",
        "    elements, counts = np.unique(target_col, return_counts=True)\n",
        "    entropy_val = np.sum(\n",
        "        [-(counts[i] / np.sum(counts)) * np.log2(counts[i] / np.sum(counts))\n",
        "         for i in range(len(elements))]\n",
        "    )\n",
        "    return entropy_val"
      ],
      "metadata": {
        "id": "jSGLh5vAsBOg"
      },
      "execution_count": 27,
      "outputs": []
    },
    {
      "cell_type": "code",
      "source": [
        "def info_gain(data, split_attribute_name, target_attribute_name):\n",
        "    total_entropy = entropy(data[target_attribute_name])\n",
        "    vals, counts = np.unique(data[split_attribute_name], return_counts=True)\n",
        "    weighted_entropy = np.sum([\n",
        "        (counts[i] / np.sum(counts)) *\n",
        "        entropy(data.where(data[split_attribute_name] == vals[i]).dropna()[target_attribute_name])\n",
        "        for i in range(len(vals))\n",
        "    ])\n",
        "    info_gain_value = total_entropy - weighted_entropy\n",
        "    return info_gain_value"
      ],
      "metadata": {
        "id": "rohOEbY_sDxH"
      },
      "execution_count": 28,
      "outputs": []
    },
    {
      "cell_type": "code",
      "source": [
        "def build_tree(data, originaldata, features, target_attribute_name=\"Play\", parent_node_class=None):\n",
        "\n",
        "    if len(np.unique(data[target_attribute_name])) <= 1:\n",
        "        return np.unique(data[target_attribute_name])[0]\n",
        "\n",
        "    elif len(data) == 0:\n",
        "        unique_vals, counts = np.unique(originaldata[target_attribute_name], return_counts=True)\n",
        "        return unique_vals[np.argmax(counts)]\n",
        "\n",
        "\n",
        "    elif len(features) == 0:\n",
        "        return parent_node_class\n",
        "\n",
        "\n",
        "    else:\n",
        "        unique_vals, counts = np.unique(data[target_attribute_name], return_counts=True)\n",
        "        parent_node_class = unique_vals[np.argmax(counts)]\n",
        "\n",
        "\n",
        "        item_values = [info_gain(data, feature, target_attribute_name) for feature in features]\n",
        "        best_feature_index = np.argmax(item_values)\n",
        "        best_feature = features[best_feature_index]\n",
        "\n",
        "        tree = {best_feature: {}}\n",
        "\n",
        "        remaining_features = [i for i in features if i != best_feature]\n",
        "\n",
        "        for value in np.unique(data[best_feature]):\n",
        "            sub_data = data.where(data[best_feature] == value).dropna()\n",
        "            subtree = build_tree(sub_data, data, remaining_features, target_attribute_name, parent_node_class)\n",
        "            tree[best_feature][value] = subtree\n",
        "\n",
        "        return tree"
      ],
      "metadata": {
        "id": "ZquTNmS4sGI0"
      },
      "execution_count": 29,
      "outputs": []
    },
    {
      "cell_type": "code",
      "source": [
        "features = df.columns[:-1]\n",
        "tree = build_tree(df, df, features, target_attribute_name=\"Play\")\n",
        "print(\"\\n===== HASIL FINAL TREE =====\\n\")\n",
        "print(tree)"
      ],
      "metadata": {
        "colab": {
          "base_uri": "https://localhost:8080/"
        },
        "id": "93xQv6-pnuBF",
        "outputId": "1c879df8-f245-4055-cc81-9945b3aaad5d"
      },
      "execution_count": 30,
      "outputs": [
        {
          "output_type": "stream",
          "name": "stdout",
          "text": [
            "\n",
            "===== HASIL FINAL TREE =====\n",
            "\n",
            "{'Outlook': {'Overcast': 'Yes', 'Rain': {'Wind': {'Strong': 'No', 'Weak': 'Yes'}}, 'Sunny': {'Humidity': {'High': 'No', 'Normal': 'Yes'}}}}\n"
          ]
        }
      ]
    }
  ]
}